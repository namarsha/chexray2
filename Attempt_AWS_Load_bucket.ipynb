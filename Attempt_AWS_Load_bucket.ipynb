{
 "cells": [
  {
   "cell_type": "code",
   "execution_count": null,
   "metadata": {},
   "outputs": [],
   "source": [
    "## Required files:\n",
    "\n",
    "## an Input file containing China and Montgomery Xrays, diagnoses, and masks (provided by Dr. A. through Seton Hall University Google Drive)\n",
    "\n",
    "## The CheXpert-V1.0-small.zip file, provided by the Stanford ML group."
   ]
  },
  {
   "cell_type": "markdown",
   "metadata": {},
   "source": [
    "## If on AWS, set this variable to True\n",
    "\n",
    "## If not running on AWS, ensure that input file is in same directory as this notebook. If you don't have the input file, you will need to download it.\n",
    "\n",
    "## Note that the full Stanford ML file must also be downloaded separately. the dataset (CheXpert-V1.0-small.zip) from the Stanford ML group, and unzip it. A script for unzipping the files is provided below. \n"
   ]
  },
  {
   "cell_type": "code",
   "execution_count": 1,
   "metadata": {},
   "outputs": [],
   "source": [
    "\n",
    "RUNNING_ON_AWS = False"
   ]
  },
  {
   "cell_type": "markdown",
   "metadata": {},
   "source": [
    "# Unzipping very large files: https://stackoverflow.com/questions/339053/how-do-you-unzip-very-large-files-in-python"
   ]
  },
  {
   "cell_type": "code",
   "execution_count": 2,
   "metadata": {},
   "outputs": [],
   "source": [
    "\n",
    "\n",
    "# import errno\n",
    "# import os\n",
    "# import shutil\n",
    "# import zipfile\n",
    "\n",
    "# TARGETDIR = os.path.join('.')\n",
    "\n",
    "# src = os.path.join('.', 'CheXpert-V1.0-small.zip')\n",
    "\n",
    "# with open(src, \"rb\") as zipsrc:\n",
    "#     zfile = zipfile.ZipFile(zipsrc)\n",
    "#     for member in zfile.infolist():\n",
    "#         print(\"Now serving member: {}\".format(member))\n",
    "#         target_path = os.path.join(TARGETDIR, member.filename)\n",
    "#         if target_path.endswith('/'):  # folder entry, create\n",
    "#             try:\n",
    "#                 os.makedirs(target_path)\n",
    "#             except (OSError, IOError) as err:\n",
    "#                # Windows may complain if the folders already exist\n",
    "#                 if err.errno != errno.EEXIST:\n",
    "#                     raise\n",
    "#             continue\n",
    "#         with open(target_path, 'wb') as outfile, zfile.open(member) as infile:\n",
    "#            shutil.copyfileobj(infile, outfile)"
   ]
  },
  {
   "cell_type": "code",
   "execution_count": 3,
   "metadata": {},
   "outputs": [],
   "source": [
    "import torch\n",
    "import torchvision\n",
    "import os\n",
    "import matplotlib.pyplot as plt\n",
    "import glob\n",
    "import pandas as pd\n",
    "\n"
   ]
  },
  {
   "cell_type": "markdown",
   "metadata": {},
   "source": [
    "## TODO: Add Montgomery file S3 bucket info here"
   ]
  },
  {
   "cell_type": "code",
   "execution_count": 7,
   "metadata": {},
   "outputs": [],
   "source": [
    "#Get all China set files:\n",
    "\n",
    "if RUNNING_ON_AWS == True:\n",
    "    import s3fs\n",
    "    fs = s3fs.S3FileSystem()\n",
    "    china_Files = fs.ls('s3://chexrayproject-allchinafiles')\n",
    "    shen_paths = []\n",
    "    for filename in glob.iglob(china_Files + \"**/*\", recursive=True):\n",
    "        shen_paths.append(filename)\n",
    "else:\n",
    "    shen_dir = \".\\\\input\\\\ChinaSet_AllFiles\\\\ChinaSet_AllFiles\\\\\"\n",
    "    shen_paths = []\n",
    "    for filename in glob.iglob(shen_dir + \"**/*\", recursive=True):\n",
    "        shen_paths.append(filename)\n",
    "\n",
    "\n",
    "#get all the Montgomery set files\n",
    "\n",
    "if RUNNING_ON_AWS == True:\n",
    "    pass\n",
    "    #add AWS specific buckets for montgomery files here\n",
    "    \n",
    "else:\n",
    "    mont_dir = \".\\\\input\\\\Montgomery\\\\MontgomerySet\\\\\"\n",
    "    mont_paths = []\n",
    "    for filename in glob.iglob(mont_dir + \"**/*\", recursive=True):\n",
    "         mont_paths.append(filename)"
   ]
  },
  {
   "cell_type": "code",
   "execution_count": 9,
   "metadata": {},
   "outputs": [
    {
     "name": "stdout",
     "output_type": "stream",
     "text": [
      "Montgomery Files 560\n",
      "Shenzhen Files 1328\n"
     ]
    }
   ],
   "source": [
    "print('Montgomery Files', len(mont_paths))\n",
    "print('Shenzhen Files', len(shen_paths))\n"
   ]
  },
  {
   "cell_type": "code",
   "execution_count": null,
   "metadata": {},
   "outputs": [],
   "source": [
    "#### Now combine al the files into a dataframe: all_paths_df"
   ]
  },
  {
   "cell_type": "code",
   "execution_count": 10,
   "metadata": {
    "scrolled": true
   },
   "outputs": [
    {
     "data": {
      "text/html": [
       "<div>\n",
       "<style scoped>\n",
       "    .dataframe tbody tr th:only-of-type {\n",
       "        vertical-align: middle;\n",
       "    }\n",
       "\n",
       "    .dataframe tbody tr th {\n",
       "        vertical-align: top;\n",
       "    }\n",
       "\n",
       "    .dataframe thead th {\n",
       "        text-align: right;\n",
       "    }\n",
       "</style>\n",
       "<table border=\"1\" class=\"dataframe\">\n",
       "  <thead>\n",
       "    <tr style=\"text-align: right;\">\n",
       "      <th></th>\n",
       "      <th>path</th>\n",
       "      <th>source</th>\n",
       "      <th>file_id</th>\n",
       "      <th>patient_group</th>\n",
       "      <th>file_ext</th>\n",
       "      <th>pulm_state</th>\n",
       "    </tr>\n",
       "  </thead>\n",
       "  <tbody>\n",
       "    <tr>\n",
       "      <th>513</th>\n",
       "      <td>.\\input\\Montgomery\\MontgomerySet\\ManualMask\\ri...</td>\n",
       "      <td>MontgomerySet</td>\n",
       "      <td>MCUCXR_0166_1</td>\n",
       "      <td>MCUCXR</td>\n",
       "      <td>png</td>\n",
       "      <td>1</td>\n",
       "    </tr>\n",
       "    <tr>\n",
       "      <th>1010</th>\n",
       "      <td>.\\input\\ChinaSet_AllFiles\\ChinaSet_AllFiles\\Cl...</td>\n",
       "      <td>ChinaSet_AllFiles</td>\n",
       "      <td>CHNCXR_0448_1</td>\n",
       "      <td>CHNCXR</td>\n",
       "      <td>txt</td>\n",
       "      <td>1</td>\n",
       "    </tr>\n",
       "    <tr>\n",
       "      <th>1874</th>\n",
       "      <td>.\\input\\ChinaSet_AllFiles\\ChinaSet_AllFiles\\CX...</td>\n",
       "      <td>ChinaSet_AllFiles</td>\n",
       "      <td>CHNCXR_0650_1</td>\n",
       "      <td>CHNCXR</td>\n",
       "      <td>png</td>\n",
       "      <td>1</td>\n",
       "    </tr>\n",
       "    <tr>\n",
       "      <th>1299</th>\n",
       "      <td>.\\input\\ChinaSet_AllFiles\\ChinaSet_AllFiles\\CX...</td>\n",
       "      <td>ChinaSet_AllFiles</td>\n",
       "      <td>CHNCXR_0075_0</td>\n",
       "      <td>CHNCXR</td>\n",
       "      <td>png</td>\n",
       "      <td>0</td>\n",
       "    </tr>\n",
       "    <tr>\n",
       "      <th>1578</th>\n",
       "      <td>.\\input\\ChinaSet_AllFiles\\ChinaSet_AllFiles\\CX...</td>\n",
       "      <td>ChinaSet_AllFiles</td>\n",
       "      <td>CHNCXR_0354_1</td>\n",
       "      <td>CHNCXR</td>\n",
       "      <td>png</td>\n",
       "      <td>1</td>\n",
       "    </tr>\n",
       "  </tbody>\n",
       "</table>\n",
       "</div>"
      ],
      "text/plain": [
       "                                                   path             source  \\\n",
       "513   .\\input\\Montgomery\\MontgomerySet\\ManualMask\\ri...      MontgomerySet   \n",
       "1010  .\\input\\ChinaSet_AllFiles\\ChinaSet_AllFiles\\Cl...  ChinaSet_AllFiles   \n",
       "1874  .\\input\\ChinaSet_AllFiles\\ChinaSet_AllFiles\\CX...  ChinaSet_AllFiles   \n",
       "1299  .\\input\\ChinaSet_AllFiles\\ChinaSet_AllFiles\\CX...  ChinaSet_AllFiles   \n",
       "1578  .\\input\\ChinaSet_AllFiles\\ChinaSet_AllFiles\\CX...  ChinaSet_AllFiles   \n",
       "\n",
       "            file_id patient_group file_ext  pulm_state  \n",
       "513   MCUCXR_0166_1        MCUCXR      png           1  \n",
       "1010  CHNCXR_0448_1        CHNCXR      txt           1  \n",
       "1874  CHNCXR_0650_1        CHNCXR      png           1  \n",
       "1299  CHNCXR_0075_0        CHNCXR      png           0  \n",
       "1578  CHNCXR_0354_1        CHNCXR      png           1  "
      ]
     },
     "execution_count": 10,
     "metadata": {},
     "output_type": "execute_result"
    }
   ],
   "source": [
    "all_paths_df = pd.DataFrame(dict(path = mont_paths + shen_paths))\n",
    "all_paths_df['source'] = all_paths_df['path'].map(lambda x: x.split('\\\\')[3])\n",
    "all_paths_df['file_id'] = all_paths_df['path'].map(lambda x: os.path.splitext(os.path.basename(x))[0])\n",
    "all_paths_df['patient_group']  = all_paths_df['file_id'].map(lambda x: x.split('_')[0])\n",
    "\n",
    "all_paths_df['file_ext'] = all_paths_df['path'].map(lambda x: os.path.splitext(x)[1][1:])\n",
    "all_paths_df = all_paths_df[all_paths_df.file_ext.isin(['png', 'txt'])]\n",
    "all_paths_df['pulm_state']  = all_paths_df['file_id'].map(lambda x: int(x.split('_')[-1]))\n",
    "all_paths_df.sample(5)"
   ]
  },
  {
   "cell_type": "markdown",
   "metadata": {},
   "source": [
    "## Create Report DF"
   ]
  },
  {
   "cell_type": "code",
   "execution_count": 11,
   "metadata": {},
   "outputs": [
    {
     "name": "stdout",
     "output_type": "stream",
     "text": [
      "['male 16month', 'normal']\n",
      "['male 16month', 'normal']\n",
      "['female24yrs', 'normal']"
     ]
    },
    {
     "name": "stderr",
     "output_type": "stream",
     "text": [
      "<ipython-input-11-b1a9cf3aed60>:32: RuntimeWarning: 'age'\n",
      "  warn(str(e), RuntimeWarning)\n"
     ]
    },
    {
     "name": "stdout",
     "output_type": "stream",
     "text": [
      "\n",
      "['male35yrs', 'PTB in the left upper field']\n",
      "['male35yrs', 'Bilateral secondary PTB']\n",
      "['Male , 38yrs,', 'secondary PTB in the bilateral upper and middle fields, mainly fibrous  lesions']\n"
     ]
    },
    {
     "name": "stderr",
     "output_type": "stream",
     "text": [
      "<ipython-input-11-b1a9cf3aed60>:32: RuntimeWarning: could not convert string to float: 'female24'\n",
      "  warn(str(e), RuntimeWarning)\n",
      "<ipython-input-11-b1a9cf3aed60>:32: RuntimeWarning: could not convert string to float: 'male35'\n",
      "  warn(str(e), RuntimeWarning)\n",
      "<ipython-input-11-b1a9cf3aed60>:32: RuntimeWarning: could not convert string to float: '38,'\n",
      "  warn(str(e), RuntimeWarning)\n"
     ]
    },
    {
     "data": {
      "text/html": [
       "<div>\n",
       "<style scoped>\n",
       "    .dataframe tbody tr th:only-of-type {\n",
       "        vertical-align: middle;\n",
       "    }\n",
       "\n",
       "    .dataframe tbody tr th {\n",
       "        vertical-align: top;\n",
       "    }\n",
       "\n",
       "    .dataframe thead th {\n",
       "        text-align: right;\n",
       "    }\n",
       "</style>\n",
       "<table border=\"1\" class=\"dataframe\">\n",
       "  <thead>\n",
       "    <tr style=\"text-align: right;\">\n",
       "      <th></th>\n",
       "      <th>age</th>\n",
       "      <th>gender</th>\n",
       "      <th>report</th>\n",
       "      <th>patient_group</th>\n",
       "      <th>pulm_state</th>\n",
       "      <th>file_id</th>\n",
       "      <th>png</th>\n",
       "    </tr>\n",
       "  </thead>\n",
       "  <tbody>\n",
       "    <tr>\n",
       "      <th>287</th>\n",
       "      <td>28.0</td>\n",
       "      <td>M</td>\n",
       "      <td>normal</td>\n",
       "      <td>CHNCXR</td>\n",
       "      <td>0</td>\n",
       "      <td>CHNCXR_0288_0</td>\n",
       "      <td>.\\input\\ChinaSet_AllFiles\\ChinaSet_AllFiles\\CX...</td>\n",
       "    </tr>\n",
       "    <tr>\n",
       "      <th>619</th>\n",
       "      <td>37.0</td>\n",
       "      <td>M</td>\n",
       "      <td>PTB in the right upper field</td>\n",
       "      <td>CHNCXR</td>\n",
       "      <td>1</td>\n",
       "      <td>CHNCXR_0620_1</td>\n",
       "      <td>.\\input\\ChinaSet_AllFiles\\ChinaSet_AllFiles\\CX...</td>\n",
       "    </tr>\n",
       "    <tr>\n",
       "      <th>691</th>\n",
       "      <td>48.0</td>\n",
       "      <td>M</td>\n",
       "      <td>normal</td>\n",
       "      <td>MCUCXR</td>\n",
       "      <td>0</td>\n",
       "      <td>MCUCXR_0043_0</td>\n",
       "      <td>.\\input\\Montgomery\\MontgomerySet\\CXR_png\\MCUCX...</td>\n",
       "    </tr>\n",
       "    <tr>\n",
       "      <th>499</th>\n",
       "      <td>22.0</td>\n",
       "      <td>F</td>\n",
       "      <td>bilateral PTB</td>\n",
       "      <td>CHNCXR</td>\n",
       "      <td>1</td>\n",
       "      <td>CHNCXR_0500_1</td>\n",
       "      <td>.\\input\\ChinaSet_AllFiles\\ChinaSet_AllFiles\\CX...</td>\n",
       "    </tr>\n",
       "    <tr>\n",
       "      <th>778</th>\n",
       "      <td>47.0</td>\n",
       "      <td>M</td>\n",
       "      <td>persistent rt pleural peel with some interval ...</td>\n",
       "      <td>MCUCXR</td>\n",
       "      <td>1</td>\n",
       "      <td>MCUCXR_0301_1</td>\n",
       "      <td>.\\input\\Montgomery\\MontgomerySet\\CXR_png\\MCUCX...</td>\n",
       "    </tr>\n",
       "  </tbody>\n",
       "</table>\n",
       "</div>"
      ],
      "text/plain": [
       "      age gender                                             report  \\\n",
       "287  28.0      M                                             normal   \n",
       "619  37.0      M                       PTB in the right upper field   \n",
       "691  48.0      M                                             normal   \n",
       "499  22.0      F                                      bilateral PTB   \n",
       "778  47.0      M  persistent rt pleural peel with some interval ...   \n",
       "\n",
       "    patient_group  pulm_state        file_id  \\\n",
       "287        CHNCXR           0  CHNCXR_0288_0   \n",
       "619        CHNCXR           1  CHNCXR_0620_1   \n",
       "691        MCUCXR           0  MCUCXR_0043_0   \n",
       "499        CHNCXR           1  CHNCXR_0500_1   \n",
       "778        MCUCXR           1  MCUCXR_0301_1   \n",
       "\n",
       "                                                   png  \n",
       "287  .\\input\\ChinaSet_AllFiles\\ChinaSet_AllFiles\\CX...  \n",
       "619  .\\input\\ChinaSet_AllFiles\\ChinaSet_AllFiles\\CX...  \n",
       "691  .\\input\\Montgomery\\MontgomerySet\\CXR_png\\MCUCX...  \n",
       "499  .\\input\\ChinaSet_AllFiles\\ChinaSet_AllFiles\\CX...  \n",
       "778  .\\input\\Montgomery\\MontgomerySet\\CXR_png\\MCUCX...  "
      ]
     },
     "execution_count": 11,
     "metadata": {},
     "output_type": "execute_result"
    }
   ],
   "source": [
    "clean_patients_df = all_paths_df.pivot_table(index = ['patient_group', 'pulm_state', 'file_id'], \n",
    "                                             columns=['file_ext'], \n",
    "                                             values = 'path', aggfunc='first').reset_index()\n",
    "clean_patients_df.sample(5)\n",
    "from warnings import warn\n",
    "def report_to_dict(in_path):\n",
    "    with open(in_path, 'r') as f:\n",
    "        all_lines = [x.strip() for x in f.read().split('\\n')]\n",
    "    info_dict = {}\n",
    "    try:\n",
    "        if \"Patient's Sex\" in all_lines[0]:\n",
    "            info_dict['age'] = all_lines[1].split(':')[-1].strip().replace('Y', '')\n",
    "            info_dict['gender'] = all_lines[0].split(':')[-1].strip()\n",
    "            info_dict['report'] = ' '.join(all_lines[2:]).strip()\n",
    "        else:\n",
    "            info_dict['age'] = all_lines[0].split(' ')[-1].replace('yrs', '').replace('yr', '')\n",
    "            info_dict['gender'] = all_lines[0].split(' ')[0].strip()\n",
    "            info_dict['report'] = ' '.join(all_lines[1:]).strip()\n",
    "        \n",
    "        info_dict['gender'] = info_dict['gender'].upper().replace('FEMALE', 'F').replace('MALE', 'M').replace('FEMAL', 'F')[0:1]\n",
    "        if 'month' in info_dict.get('age', ''):\n",
    "            info_dict.pop('age') # invalid\n",
    "        if 'day' in info_dict.get('age', ''):\n",
    "            info_dict.pop('age') # invalid\n",
    "        elif len(info_dict.get('age',''))>0:\n",
    "            info_dict['age'] = float(info_dict['age'])\n",
    "        else:\n",
    "            info_dict.pop('age')\n",
    "        return info_dict\n",
    "    except Exception as e:\n",
    "        print(all_lines)\n",
    "        warn(str(e), RuntimeWarning)\n",
    "        return {}\n",
    "report_df = pd.DataFrame([dict(**report_to_dict(c_row.pop('txt')), **c_row) \n",
    "              for  _, c_row in clean_patients_df.iterrows()])\n",
    "report_df.sample(5)"
   ]
  },
  {
   "cell_type": "code",
   "execution_count": null,
   "metadata": {},
   "outputs": [],
   "source": [
    "## Segmentation"
   ]
  },
  {
   "cell_type": "code",
   "execution_count": 12,
   "metadata": {},
   "outputs": [
    {
     "name": "stdout",
     "output_type": "stream",
     "text": [
      "Total mask that has modified name: 566\n"
     ]
    }
   ],
   "source": [
    "#get all the mask files\n",
    "#mask_path = os.path.join(\"D:\\\\\", \"Documents\", \"Medical\", \"TB\",\"Lung Segmentation\",\"masks\")\n",
    "mask_path = os.path.join('.', 'input', 'masks')\n",
    "#mask directory\n",
    "masks = os.listdir(mask_path)\n",
    "\n",
    "\n",
    "#clean it up to align with images names: Remove the .png and the _mask(from China masks)\n",
    "\n",
    "\n",
    "mask_ids_temp = [fName.split(\".png\")[0] for fName in masks]\n",
    "\n",
    "mask_ids = [fName.split(\"_mask\")[0] for fName in mask_ids_temp]\n",
    "\n",
    "#The total # of masks\n",
    "mask_file_names = [os.path.join(mask_path, mask) for mask in masks]\n",
    "\n",
    "#masks\n",
    "\n",
    "#Total number of modified masks - China masks\n",
    "check = [i for i in masks if \"mask\" in i]\n",
    "print(\"Total masks that have modified names:\",len(check))\n",
    "\n",
    "## ??? There seems to be 704 masks before modification"
   ]
  },
  {
   "cell_type": "code",
   "execution_count": 13,
   "metadata": {},
   "outputs": [
    {
     "name": "stdout",
     "output_type": "stream",
     "text": [
      "Total X-ray images:  800\n"
     ]
    }
   ],
   "source": [
    "#get all the image files\n",
    "image_path = os.path.join('.', 'input',\"CXR_png\")\n",
    "\n",
    "#image directory\n",
    "images = os.listdir(image_path)\n",
    "\n",
    "#clean it up to align with images names: Remove the .png and the _mask(from China masks)\n",
    "image_ids = [fName.split(\".png\")[0] for fName in images]\n",
    "#mask_file_names = [fName.split(\"_mask\")[0] for fName in mask_id]\n",
    "\n",
    "image_file_names = [os.path.join(image_path, image) for image in images]\n",
    "\n",
    "#The total # of images\n",
    "print('Total X-ray images: ', len(image_file_names))"
   ]
  },
  {
   "cell_type": "code",
   "execution_count": 14,
   "metadata": {},
   "outputs": [
    {
     "name": "stdout",
     "output_type": "stream",
     "text": [
      "There are 704 x-rays with masks\n",
      "True indicates the x-ray has a mask:\n"
     ]
    },
    {
     "name": "stderr",
     "output_type": "stream",
     "text": [
      "<ipython-input-14-075844446854>:9: SettingWithCopyWarning: \n",
      "A value is trying to be set on a copy of a slice from a DataFrame.\n",
      "Try using .loc[row_indexer,col_indexer] = value instead\n",
      "\n",
      "See the caveats in the documentation: https://pandas.pydata.org/pandas-docs/stable/user_guide/indexing.html#returning-a-view-versus-a-copy\n",
      "  images_with_masks_df['masks'] = mask_file_names\n"
     ]
    },
    {
     "data": {
      "text/plain": [
       "True     704\n",
       "False     96\n",
       "Name: has_mask, dtype: int64"
      ]
     },
     "execution_count": 14,
     "metadata": {},
     "output_type": "execute_result"
    }
   ],
   "source": [
    "#Put all the names into a dataframe for convenience\n",
    "images_df = pd.DataFrame()\n",
    "images_df['xrays'] = image_file_names\n",
    "images_df['file_id'] = image_ids\n",
    "images_df['has_mask'] = images_df['file_id'].isin(mask_ids)\n",
    "\n",
    "images_with_masks_df = images_df[images_df['file_id'].isin(mask_ids)]\n",
    "\n",
    "images_with_masks_df['masks'] = mask_file_names\n",
    "\n",
    "print(\"There are {} x-rays with masks\".format(len(images_with_masks_df)))\n",
    "images_df\n",
    "print(\"True indicates the x-ray has a mask:\")\n",
    "images_df['has_mask'].value_counts()"
   ]
  },
  {
   "cell_type": "code",
   "execution_count": 15,
   "metadata": {},
   "outputs": [],
   "source": [
    "from sklearn.model_selection import train_test_split\n",
    "#Do a train-test split\n",
    "#??? So, here we are splitting the xrays from the masks, in segmentation we are trying to predict the mask.\n",
    "# We use 90% of the data for the training set.\n",
    "train_x,test_x,train_y,test_y = train_test_split(images_with_masks_df['xrays'],\n",
    "                                                   images_with_masks_df['masks'],test_size    = 0.1,\n",
    "                                                   random_state = 42)\n",
    "\n",
    "#size of the training set should be 90% of 704\n",
    "#len(train_x)"
   ]
  },
  {
   "cell_type": "code",
   "execution_count": 16,
   "metadata": {},
   "outputs": [],
   "source": [
    "#We are also going to make a validation set.\n",
    "trainx,validationx,trainy,validationy = train_test_split(train_x,train_y,test_size = 0.1,random_state = 42)\n",
    "\n",
    "#len(trainx)"
   ]
  },
  {
   "cell_type": "code",
   "execution_count": 17,
   "metadata": {},
   "outputs": [],
   "source": [
    "#Put all these data sets into data frames\n",
    "train_df = pd.DataFrame(index=trainx.index)\n",
    "train_df['xrays'] = trainx\n",
    "train_df['masks'] = trainy\n",
    "\n",
    "test_df = pd.DataFrame(index=test_x.index)\n",
    "test_df['xrays'] = test_x\n",
    "test_df['masks'] = test_y\n",
    "\n",
    "validation_df = pd.DataFrame(index=validationx.index)\n",
    "validation_df['xrays'] = validationx\n",
    "validation_df['masks'] = validationy"
   ]
  },
  {
   "cell_type": "code",
   "execution_count": 18,
   "metadata": {},
   "outputs": [],
   "source": [
    "## Now that we have a dataframe of training and test examples, can we mask them?"
   ]
  },
  {
   "cell_type": "markdown",
   "metadata": {},
   "source": [
    "## Need a train info dataframe"
   ]
  },
  {
   "cell_type": "code",
   "execution_count": null,
   "metadata": {},
   "outputs": [],
   "source": []
  },
  {
   "cell_type": "code",
   "execution_count": 19,
   "metadata": {},
   "outputs": [],
   "source": [
    "train_info_loc = os.path.join(\".\", \"CheXpert-v1.0-small\") #Need the file path to the CheXpert-V1.0-small file (this must be downloaded independently through Stanford ML)\n",
    "train_file_name = \"train.csv\"\n",
    "train_info = pd.read_csv(os.path.join(train_info_loc, train_file_name))\n"
   ]
  },
  {
   "cell_type": "code",
   "execution_count": 20,
   "metadata": {},
   "outputs": [
    {
     "data": {
      "text/html": [
       "<div>\n",
       "<style scoped>\n",
       "    .dataframe tbody tr th:only-of-type {\n",
       "        vertical-align: middle;\n",
       "    }\n",
       "\n",
       "    .dataframe tbody tr th {\n",
       "        vertical-align: top;\n",
       "    }\n",
       "\n",
       "    .dataframe thead th {\n",
       "        text-align: right;\n",
       "    }\n",
       "</style>\n",
       "<table border=\"1\" class=\"dataframe\">\n",
       "  <thead>\n",
       "    <tr style=\"text-align: right;\">\n",
       "      <th></th>\n",
       "      <th>Path</th>\n",
       "      <th>Sex</th>\n",
       "      <th>Age</th>\n",
       "      <th>Frontal/Lateral</th>\n",
       "      <th>AP/PA</th>\n",
       "      <th>No Finding</th>\n",
       "      <th>Enlarged Cardiomediastinum</th>\n",
       "      <th>Cardiomegaly</th>\n",
       "      <th>Lung Opacity</th>\n",
       "      <th>Lung Lesion</th>\n",
       "      <th>Edema</th>\n",
       "      <th>Consolidation</th>\n",
       "      <th>Pneumonia</th>\n",
       "      <th>Atelectasis</th>\n",
       "      <th>Pneumothorax</th>\n",
       "      <th>Pleural Effusion</th>\n",
       "      <th>Pleural Other</th>\n",
       "      <th>Fracture</th>\n",
       "      <th>Support Devices</th>\n",
       "    </tr>\n",
       "  </thead>\n",
       "  <tbody>\n",
       "    <tr>\n",
       "      <th>0</th>\n",
       "      <td>CheXpert-v1.0-small/train/patient00001/study1/...</td>\n",
       "      <td>Female</td>\n",
       "      <td>68</td>\n",
       "      <td>Frontal</td>\n",
       "      <td>AP</td>\n",
       "      <td>1.0</td>\n",
       "      <td>NaN</td>\n",
       "      <td>NaN</td>\n",
       "      <td>NaN</td>\n",
       "      <td>NaN</td>\n",
       "      <td>NaN</td>\n",
       "      <td>NaN</td>\n",
       "      <td>NaN</td>\n",
       "      <td>NaN</td>\n",
       "      <td>0.0</td>\n",
       "      <td>NaN</td>\n",
       "      <td>NaN</td>\n",
       "      <td>NaN</td>\n",
       "      <td>1.0</td>\n",
       "    </tr>\n",
       "    <tr>\n",
       "      <th>1</th>\n",
       "      <td>CheXpert-v1.0-small/train/patient00002/study2/...</td>\n",
       "      <td>Female</td>\n",
       "      <td>87</td>\n",
       "      <td>Frontal</td>\n",
       "      <td>AP</td>\n",
       "      <td>NaN</td>\n",
       "      <td>NaN</td>\n",
       "      <td>-1.0</td>\n",
       "      <td>1.0</td>\n",
       "      <td>NaN</td>\n",
       "      <td>-1.0</td>\n",
       "      <td>-1.0</td>\n",
       "      <td>NaN</td>\n",
       "      <td>-1.0</td>\n",
       "      <td>NaN</td>\n",
       "      <td>-1.0</td>\n",
       "      <td>NaN</td>\n",
       "      <td>1.0</td>\n",
       "      <td>NaN</td>\n",
       "    </tr>\n",
       "    <tr>\n",
       "      <th>2</th>\n",
       "      <td>CheXpert-v1.0-small/train/patient00002/study1/...</td>\n",
       "      <td>Female</td>\n",
       "      <td>83</td>\n",
       "      <td>Frontal</td>\n",
       "      <td>AP</td>\n",
       "      <td>NaN</td>\n",
       "      <td>NaN</td>\n",
       "      <td>NaN</td>\n",
       "      <td>1.0</td>\n",
       "      <td>NaN</td>\n",
       "      <td>NaN</td>\n",
       "      <td>-1.0</td>\n",
       "      <td>NaN</td>\n",
       "      <td>NaN</td>\n",
       "      <td>NaN</td>\n",
       "      <td>NaN</td>\n",
       "      <td>NaN</td>\n",
       "      <td>1.0</td>\n",
       "      <td>NaN</td>\n",
       "    </tr>\n",
       "    <tr>\n",
       "      <th>3</th>\n",
       "      <td>CheXpert-v1.0-small/train/patient00002/study1/...</td>\n",
       "      <td>Female</td>\n",
       "      <td>83</td>\n",
       "      <td>Lateral</td>\n",
       "      <td>NaN</td>\n",
       "      <td>NaN</td>\n",
       "      <td>NaN</td>\n",
       "      <td>NaN</td>\n",
       "      <td>1.0</td>\n",
       "      <td>NaN</td>\n",
       "      <td>NaN</td>\n",
       "      <td>-1.0</td>\n",
       "      <td>NaN</td>\n",
       "      <td>NaN</td>\n",
       "      <td>NaN</td>\n",
       "      <td>NaN</td>\n",
       "      <td>NaN</td>\n",
       "      <td>1.0</td>\n",
       "      <td>NaN</td>\n",
       "    </tr>\n",
       "    <tr>\n",
       "      <th>4</th>\n",
       "      <td>CheXpert-v1.0-small/train/patient00003/study1/...</td>\n",
       "      <td>Male</td>\n",
       "      <td>41</td>\n",
       "      <td>Frontal</td>\n",
       "      <td>AP</td>\n",
       "      <td>NaN</td>\n",
       "      <td>NaN</td>\n",
       "      <td>NaN</td>\n",
       "      <td>NaN</td>\n",
       "      <td>NaN</td>\n",
       "      <td>1.0</td>\n",
       "      <td>NaN</td>\n",
       "      <td>NaN</td>\n",
       "      <td>NaN</td>\n",
       "      <td>0.0</td>\n",
       "      <td>NaN</td>\n",
       "      <td>NaN</td>\n",
       "      <td>NaN</td>\n",
       "      <td>NaN</td>\n",
       "    </tr>\n",
       "  </tbody>\n",
       "</table>\n",
       "</div>"
      ],
      "text/plain": [
       "                                                Path     Sex  Age  \\\n",
       "0  CheXpert-v1.0-small/train/patient00001/study1/...  Female   68   \n",
       "1  CheXpert-v1.0-small/train/patient00002/study2/...  Female   87   \n",
       "2  CheXpert-v1.0-small/train/patient00002/study1/...  Female   83   \n",
       "3  CheXpert-v1.0-small/train/patient00002/study1/...  Female   83   \n",
       "4  CheXpert-v1.0-small/train/patient00003/study1/...    Male   41   \n",
       "\n",
       "  Frontal/Lateral AP/PA  No Finding  Enlarged Cardiomediastinum  Cardiomegaly  \\\n",
       "0         Frontal    AP         1.0                         NaN           NaN   \n",
       "1         Frontal    AP         NaN                         NaN          -1.0   \n",
       "2         Frontal    AP         NaN                         NaN           NaN   \n",
       "3         Lateral   NaN         NaN                         NaN           NaN   \n",
       "4         Frontal    AP         NaN                         NaN           NaN   \n",
       "\n",
       "   Lung Opacity  Lung Lesion  Edema  Consolidation  Pneumonia  Atelectasis  \\\n",
       "0           NaN          NaN    NaN            NaN        NaN          NaN   \n",
       "1           1.0          NaN   -1.0           -1.0        NaN         -1.0   \n",
       "2           1.0          NaN    NaN           -1.0        NaN          NaN   \n",
       "3           1.0          NaN    NaN           -1.0        NaN          NaN   \n",
       "4           NaN          NaN    1.0            NaN        NaN          NaN   \n",
       "\n",
       "   Pneumothorax  Pleural Effusion  Pleural Other  Fracture  Support Devices  \n",
       "0           0.0               NaN            NaN       NaN              1.0  \n",
       "1           NaN              -1.0            NaN       1.0              NaN  \n",
       "2           NaN               NaN            NaN       1.0              NaN  \n",
       "3           NaN               NaN            NaN       1.0              NaN  \n",
       "4           0.0               NaN            NaN       NaN              NaN  "
      ]
     },
     "execution_count": 20,
     "metadata": {},
     "output_type": "execute_result"
    }
   ],
   "source": [
    "train_info.head()"
   ]
  },
  {
   "cell_type": "code",
   "execution_count": 21,
   "metadata": {},
   "outputs": [
    {
     "data": {
      "text/plain": [
       "223414"
      ]
     },
     "execution_count": 21,
     "metadata": {},
     "output_type": "execute_result"
    }
   ],
   "source": [
    "len(train_info)"
   ]
  },
  {
   "cell_type": "code",
   "execution_count": 22,
   "metadata": {},
   "outputs": [
    {
     "data": {
      "text/html": [
       "<div>\n",
       "<style scoped>\n",
       "    .dataframe tbody tr th:only-of-type {\n",
       "        vertical-align: middle;\n",
       "    }\n",
       "\n",
       "    .dataframe tbody tr th {\n",
       "        vertical-align: top;\n",
       "    }\n",
       "\n",
       "    .dataframe thead th {\n",
       "        text-align: right;\n",
       "    }\n",
       "</style>\n",
       "<table border=\"1\" class=\"dataframe\">\n",
       "  <thead>\n",
       "    <tr style=\"text-align: right;\">\n",
       "      <th></th>\n",
       "      <th>Path</th>\n",
       "      <th>Sex</th>\n",
       "      <th>Age</th>\n",
       "      <th>Frontal/Lateral</th>\n",
       "      <th>AP/PA</th>\n",
       "      <th>No Finding</th>\n",
       "      <th>Enlarged Cardiomediastinum</th>\n",
       "      <th>Cardiomegaly</th>\n",
       "      <th>Lung Opacity</th>\n",
       "      <th>Lung Lesion</th>\n",
       "      <th>Edema</th>\n",
       "      <th>Consolidation</th>\n",
       "      <th>Pneumonia</th>\n",
       "      <th>Atelectasis</th>\n",
       "      <th>Pneumothorax</th>\n",
       "      <th>Pleural Effusion</th>\n",
       "      <th>Pleural Other</th>\n",
       "      <th>Fracture</th>\n",
       "      <th>Support Devices</th>\n",
       "    </tr>\n",
       "  </thead>\n",
       "  <tbody>\n",
       "    <tr>\n",
       "      <th>0</th>\n",
       "      <td>CheXpert-v1.0-small/train/patient00001/study1/...</td>\n",
       "      <td>Female</td>\n",
       "      <td>68</td>\n",
       "      <td>Frontal</td>\n",
       "      <td>AP</td>\n",
       "      <td>1.0</td>\n",
       "      <td>0.0</td>\n",
       "      <td>0.0</td>\n",
       "      <td>0.0</td>\n",
       "      <td>0.0</td>\n",
       "      <td>0.0</td>\n",
       "      <td>0.0</td>\n",
       "      <td>0.0</td>\n",
       "      <td>0.0</td>\n",
       "      <td>0.0</td>\n",
       "      <td>0.0</td>\n",
       "      <td>0.0</td>\n",
       "      <td>0.0</td>\n",
       "      <td>1.0</td>\n",
       "    </tr>\n",
       "    <tr>\n",
       "      <th>1</th>\n",
       "      <td>CheXpert-v1.0-small/train/patient00002/study2/...</td>\n",
       "      <td>Female</td>\n",
       "      <td>87</td>\n",
       "      <td>Frontal</td>\n",
       "      <td>AP</td>\n",
       "      <td>0.0</td>\n",
       "      <td>0.0</td>\n",
       "      <td>-1.0</td>\n",
       "      <td>1.0</td>\n",
       "      <td>0.0</td>\n",
       "      <td>-1.0</td>\n",
       "      <td>-1.0</td>\n",
       "      <td>0.0</td>\n",
       "      <td>-1.0</td>\n",
       "      <td>0.0</td>\n",
       "      <td>-1.0</td>\n",
       "      <td>0.0</td>\n",
       "      <td>1.0</td>\n",
       "      <td>0.0</td>\n",
       "    </tr>\n",
       "    <tr>\n",
       "      <th>2</th>\n",
       "      <td>CheXpert-v1.0-small/train/patient00002/study1/...</td>\n",
       "      <td>Female</td>\n",
       "      <td>83</td>\n",
       "      <td>Frontal</td>\n",
       "      <td>AP</td>\n",
       "      <td>0.0</td>\n",
       "      <td>0.0</td>\n",
       "      <td>0.0</td>\n",
       "      <td>1.0</td>\n",
       "      <td>0.0</td>\n",
       "      <td>0.0</td>\n",
       "      <td>-1.0</td>\n",
       "      <td>0.0</td>\n",
       "      <td>0.0</td>\n",
       "      <td>0.0</td>\n",
       "      <td>0.0</td>\n",
       "      <td>0.0</td>\n",
       "      <td>1.0</td>\n",
       "      <td>0.0</td>\n",
       "    </tr>\n",
       "    <tr>\n",
       "      <th>3</th>\n",
       "      <td>CheXpert-v1.0-small/train/patient00002/study1/...</td>\n",
       "      <td>Female</td>\n",
       "      <td>83</td>\n",
       "      <td>Lateral</td>\n",
       "      <td>0</td>\n",
       "      <td>0.0</td>\n",
       "      <td>0.0</td>\n",
       "      <td>0.0</td>\n",
       "      <td>1.0</td>\n",
       "      <td>0.0</td>\n",
       "      <td>0.0</td>\n",
       "      <td>-1.0</td>\n",
       "      <td>0.0</td>\n",
       "      <td>0.0</td>\n",
       "      <td>0.0</td>\n",
       "      <td>0.0</td>\n",
       "      <td>0.0</td>\n",
       "      <td>1.0</td>\n",
       "      <td>0.0</td>\n",
       "    </tr>\n",
       "    <tr>\n",
       "      <th>4</th>\n",
       "      <td>CheXpert-v1.0-small/train/patient00003/study1/...</td>\n",
       "      <td>Male</td>\n",
       "      <td>41</td>\n",
       "      <td>Frontal</td>\n",
       "      <td>AP</td>\n",
       "      <td>0.0</td>\n",
       "      <td>0.0</td>\n",
       "      <td>0.0</td>\n",
       "      <td>0.0</td>\n",
       "      <td>0.0</td>\n",
       "      <td>1.0</td>\n",
       "      <td>0.0</td>\n",
       "      <td>0.0</td>\n",
       "      <td>0.0</td>\n",
       "      <td>0.0</td>\n",
       "      <td>0.0</td>\n",
       "      <td>0.0</td>\n",
       "      <td>0.0</td>\n",
       "      <td>0.0</td>\n",
       "    </tr>\n",
       "  </tbody>\n",
       "</table>\n",
       "</div>"
      ],
      "text/plain": [
       "                                                Path     Sex  Age  \\\n",
       "0  CheXpert-v1.0-small/train/patient00001/study1/...  Female   68   \n",
       "1  CheXpert-v1.0-small/train/patient00002/study2/...  Female   87   \n",
       "2  CheXpert-v1.0-small/train/patient00002/study1/...  Female   83   \n",
       "3  CheXpert-v1.0-small/train/patient00002/study1/...  Female   83   \n",
       "4  CheXpert-v1.0-small/train/patient00003/study1/...    Male   41   \n",
       "\n",
       "  Frontal/Lateral AP/PA  No Finding  Enlarged Cardiomediastinum  Cardiomegaly  \\\n",
       "0         Frontal    AP         1.0                         0.0           0.0   \n",
       "1         Frontal    AP         0.0                         0.0          -1.0   \n",
       "2         Frontal    AP         0.0                         0.0           0.0   \n",
       "3         Lateral     0         0.0                         0.0           0.0   \n",
       "4         Frontal    AP         0.0                         0.0           0.0   \n",
       "\n",
       "   Lung Opacity  Lung Lesion  Edema  Consolidation  Pneumonia  Atelectasis  \\\n",
       "0           0.0          0.0    0.0            0.0        0.0          0.0   \n",
       "1           1.0          0.0   -1.0           -1.0        0.0         -1.0   \n",
       "2           1.0          0.0    0.0           -1.0        0.0          0.0   \n",
       "3           1.0          0.0    0.0           -1.0        0.0          0.0   \n",
       "4           0.0          0.0    1.0            0.0        0.0          0.0   \n",
       "\n",
       "   Pneumothorax  Pleural Effusion  Pleural Other  Fracture  Support Devices  \n",
       "0           0.0               0.0            0.0       0.0              1.0  \n",
       "1           0.0              -1.0            0.0       1.0              0.0  \n",
       "2           0.0               0.0            0.0       1.0              0.0  \n",
       "3           0.0               0.0            0.0       1.0              0.0  \n",
       "4           0.0               0.0            0.0       0.0              0.0  "
      ]
     },
     "execution_count": 22,
     "metadata": {},
     "output_type": "execute_result"
    }
   ],
   "source": [
    "train_info.fillna(0, inplace=True)\n",
    "train_info.head()"
   ]
  },
  {
   "cell_type": "markdown",
   "metadata": {},
   "source": [
    "## create a new dataframe with a column for complete path and diagnostic columns of interest:\n"
   ]
  },
  {
   "cell_type": "code",
   "execution_count": 23,
   "metadata": {},
   "outputs": [],
   "source": [
    "train_df = pd.DataFrame(index=train_info.index)\n",
    "data_df = train_info.iloc[:, 5:].copy()\n",
    "data_df['xrays'] = [os.path.join('.', x) for x in train_info['Path'].values]"
   ]
  },
  {
   "cell_type": "code",
   "execution_count": 24,
   "metadata": {},
   "outputs": [
    {
     "data": {
      "text/html": [
       "<div>\n",
       "<style scoped>\n",
       "    .dataframe tbody tr th:only-of-type {\n",
       "        vertical-align: middle;\n",
       "    }\n",
       "\n",
       "    .dataframe tbody tr th {\n",
       "        vertical-align: top;\n",
       "    }\n",
       "\n",
       "    .dataframe thead th {\n",
       "        text-align: right;\n",
       "    }\n",
       "</style>\n",
       "<table border=\"1\" class=\"dataframe\">\n",
       "  <thead>\n",
       "    <tr style=\"text-align: right;\">\n",
       "      <th></th>\n",
       "      <th>No Finding</th>\n",
       "      <th>Enlarged Cardiomediastinum</th>\n",
       "      <th>Cardiomegaly</th>\n",
       "      <th>Lung Opacity</th>\n",
       "      <th>Lung Lesion</th>\n",
       "      <th>Edema</th>\n",
       "      <th>Consolidation</th>\n",
       "      <th>Pneumonia</th>\n",
       "      <th>Atelectasis</th>\n",
       "      <th>Pneumothorax</th>\n",
       "      <th>Pleural Effusion</th>\n",
       "      <th>Pleural Other</th>\n",
       "      <th>Fracture</th>\n",
       "      <th>Support Devices</th>\n",
       "      <th>xrays</th>\n",
       "    </tr>\n",
       "  </thead>\n",
       "  <tbody>\n",
       "    <tr>\n",
       "      <th>0</th>\n",
       "      <td>1.0</td>\n",
       "      <td>0.0</td>\n",
       "      <td>0.0</td>\n",
       "      <td>0.0</td>\n",
       "      <td>0.0</td>\n",
       "      <td>0.0</td>\n",
       "      <td>0.0</td>\n",
       "      <td>0.0</td>\n",
       "      <td>0.0</td>\n",
       "      <td>0.0</td>\n",
       "      <td>0.0</td>\n",
       "      <td>0.0</td>\n",
       "      <td>0.0</td>\n",
       "      <td>1.0</td>\n",
       "      <td>.\\CheXpert-v1.0-small/train/patient00001/study...</td>\n",
       "    </tr>\n",
       "    <tr>\n",
       "      <th>1</th>\n",
       "      <td>0.0</td>\n",
       "      <td>0.0</td>\n",
       "      <td>-1.0</td>\n",
       "      <td>1.0</td>\n",
       "      <td>0.0</td>\n",
       "      <td>-1.0</td>\n",
       "      <td>-1.0</td>\n",
       "      <td>0.0</td>\n",
       "      <td>-1.0</td>\n",
       "      <td>0.0</td>\n",
       "      <td>-1.0</td>\n",
       "      <td>0.0</td>\n",
       "      <td>1.0</td>\n",
       "      <td>0.0</td>\n",
       "      <td>.\\CheXpert-v1.0-small/train/patient00002/study...</td>\n",
       "    </tr>\n",
       "    <tr>\n",
       "      <th>2</th>\n",
       "      <td>0.0</td>\n",
       "      <td>0.0</td>\n",
       "      <td>0.0</td>\n",
       "      <td>1.0</td>\n",
       "      <td>0.0</td>\n",
       "      <td>0.0</td>\n",
       "      <td>-1.0</td>\n",
       "      <td>0.0</td>\n",
       "      <td>0.0</td>\n",
       "      <td>0.0</td>\n",
       "      <td>0.0</td>\n",
       "      <td>0.0</td>\n",
       "      <td>1.0</td>\n",
       "      <td>0.0</td>\n",
       "      <td>.\\CheXpert-v1.0-small/train/patient00002/study...</td>\n",
       "    </tr>\n",
       "    <tr>\n",
       "      <th>3</th>\n",
       "      <td>0.0</td>\n",
       "      <td>0.0</td>\n",
       "      <td>0.0</td>\n",
       "      <td>1.0</td>\n",
       "      <td>0.0</td>\n",
       "      <td>0.0</td>\n",
       "      <td>-1.0</td>\n",
       "      <td>0.0</td>\n",
       "      <td>0.0</td>\n",
       "      <td>0.0</td>\n",
       "      <td>0.0</td>\n",
       "      <td>0.0</td>\n",
       "      <td>1.0</td>\n",
       "      <td>0.0</td>\n",
       "      <td>.\\CheXpert-v1.0-small/train/patient00002/study...</td>\n",
       "    </tr>\n",
       "    <tr>\n",
       "      <th>4</th>\n",
       "      <td>0.0</td>\n",
       "      <td>0.0</td>\n",
       "      <td>0.0</td>\n",
       "      <td>0.0</td>\n",
       "      <td>0.0</td>\n",
       "      <td>1.0</td>\n",
       "      <td>0.0</td>\n",
       "      <td>0.0</td>\n",
       "      <td>0.0</td>\n",
       "      <td>0.0</td>\n",
       "      <td>0.0</td>\n",
       "      <td>0.0</td>\n",
       "      <td>0.0</td>\n",
       "      <td>0.0</td>\n",
       "      <td>.\\CheXpert-v1.0-small/train/patient00003/study...</td>\n",
       "    </tr>\n",
       "  </tbody>\n",
       "</table>\n",
       "</div>"
      ],
      "text/plain": [
       "   No Finding  Enlarged Cardiomediastinum  Cardiomegaly  Lung Opacity  \\\n",
       "0         1.0                         0.0           0.0           0.0   \n",
       "1         0.0                         0.0          -1.0           1.0   \n",
       "2         0.0                         0.0           0.0           1.0   \n",
       "3         0.0                         0.0           0.0           1.0   \n",
       "4         0.0                         0.0           0.0           0.0   \n",
       "\n",
       "   Lung Lesion  Edema  Consolidation  Pneumonia  Atelectasis  Pneumothorax  \\\n",
       "0          0.0    0.0            0.0        0.0          0.0           0.0   \n",
       "1          0.0   -1.0           -1.0        0.0         -1.0           0.0   \n",
       "2          0.0    0.0           -1.0        0.0          0.0           0.0   \n",
       "3          0.0    0.0           -1.0        0.0          0.0           0.0   \n",
       "4          0.0    1.0            0.0        0.0          0.0           0.0   \n",
       "\n",
       "   Pleural Effusion  Pleural Other  Fracture  Support Devices  \\\n",
       "0               0.0            0.0       0.0              1.0   \n",
       "1              -1.0            0.0       1.0              0.0   \n",
       "2               0.0            0.0       1.0              0.0   \n",
       "3               0.0            0.0       1.0              0.0   \n",
       "4               0.0            0.0       0.0              0.0   \n",
       "\n",
       "                                               xrays  \n",
       "0  .\\CheXpert-v1.0-small/train/patient00001/study...  \n",
       "1  .\\CheXpert-v1.0-small/train/patient00002/study...  \n",
       "2  .\\CheXpert-v1.0-small/train/patient00002/study...  \n",
       "3  .\\CheXpert-v1.0-small/train/patient00002/study...  \n",
       "4  .\\CheXpert-v1.0-small/train/patient00003/study...  "
      ]
     },
     "execution_count": 24,
     "metadata": {},
     "output_type": "execute_result"
    }
   ],
   "source": [
    "data_df.head()"
   ]
  },
  {
   "cell_type": "code",
   "execution_count": 25,
   "metadata": {},
   "outputs": [],
   "source": [
    "import pickle\n",
    "\n",
    "#save huge dataframe to pickle\n",
    "train_df.to_pickle(\"train_df.pkl\")"
   ]
  },
  {
   "cell_type": "markdown",
   "metadata": {},
   "source": [
    "## get and view file from the data_df (checking understanding of file formats)"
   ]
  },
  {
   "cell_type": "code",
   "execution_count": null,
   "metadata": {},
   "outputs": [],
   "source": []
  },
  {
   "cell_type": "code",
   "execution_count": 26,
   "metadata": {},
   "outputs": [],
   "source": [
    "rnd_xray = data_df['xrays'][354]"
   ]
  },
  {
   "cell_type": "code",
   "execution_count": 27,
   "metadata": {},
   "outputs": [
    {
     "data": {
      "image/png": "[encoded data removed]",
      "text/plain": [
       "<PIL.JpegImagePlugin.JpegImageFile image mode=L size=390x320 at 0x1F194F669D0>"
      ]
     },
     "execution_count": 27,
     "metadata": {},
     "output_type": "execute_result"
    }
   ],
   "source": [
    "from PIL import Image\n",
    "\n",
    "img = Image.open(rnd_xray) #Note, these .jpg files are PIL objects...\n",
    "\n",
    "img"
   ]
  },
  {
   "cell_type": "code",
   "execution_count": 28,
   "metadata": {},
   "outputs": [
    {
     "name": "stdout",
     "output_type": "stream",
     "text": [
      "torch.Size([1, 320, 390])\n",
      "torch.Size([320, 390, 1])\n"
     ]
    }
   ],
   "source": [
    "## Let's convert it to a tensor\n",
    "\n",
    "from torchvision import transforms\n",
    "\n",
    "convert_tensor = transforms.ToTensor()\n",
    "\n",
    "img_t = convert_tensor(img)\n",
    "\n",
    "\n",
    "print(img_t.shape)\n",
    "\n",
    "shifted = img_t.permute(1, 2, 0)\n",
    "\n",
    "print(shifted.shape)"
   ]
  },
  {
   "cell_type": "code",
   "execution_count": 29,
   "metadata": {},
   "outputs": [],
   "source": [
    "#Create test train split\n",
    "\n",
    "from sklearn.model_selection import GroupShuffleSplit\n",
    "\n",
    "# Initialize the GroupShuffleSplit.\n",
    "gss = GroupShuffleSplit(n_splits=1, test_size=0.01)\n",
    "\n",
    "# Get the indexers for the split.\n",
    "idx1, idx2 = next(gss.split(data_df, groups=data_df.index))\n",
    "\n",
    "# Get the split DataFrames.\n",
    "df1, df2 = data_df.iloc[idx1], data_df.iloc[idx2]\n",
    "\n",
    "\n",
    "\n",
    "#Just use a slice of the images for now:\n",
    "\n",
    "train_temp_df = df1.sample(100000)\n",
    "test_temp_df = df2.copy()"
   ]
  },
  {
   "cell_type": "code",
   "execution_count": 30,
   "metadata": {},
   "outputs": [
    {
     "data": {
      "text/plain": [
       "'.\\\\CheXpert-v1.0-small/train/patient00119/study5/view1_frontal.jpg'"
      ]
     },
     "execution_count": 30,
     "metadata": {},
     "output_type": "execute_result"
    }
   ],
   "source": [
    "train_temp_df['xrays'][432]"
   ]
  },
  {
   "cell_type": "code",
   "execution_count": 31,
   "metadata": {},
   "outputs": [
    {
     "data": {
      "text/plain": [
       "100000"
      ]
     },
     "execution_count": 31,
     "metadata": {},
     "output_type": "execute_result"
    }
   ],
   "source": [
    "len(train_temp_df)"
   ]
  },
  {
   "cell_type": "markdown",
   "metadata": {},
   "source": [
    "## MODEL DEVELOPMENT"
   ]
  },
  {
   "cell_type": "markdown",
   "metadata": {},
   "source": [
    "## \n",
    "1) Load 1 Resnet pretrained model\n",
    "2) Apply this model to data (What's the input and what's the output?)"
   ]
  },
  {
   "cell_type": "code",
   "execution_count": null,
   "metadata": {},
   "outputs": [],
   "source": [
    "import torch.nn as nn\n",
    "## Try implementing a Resnet from scratch  (tutorial here: https://www.youtube.com/watch?v=DkNIBBBvcPs)\n",
    "\n",
    "\n",
    "class resblock(nn.Module):\n",
    "    def __init__(self, in_channels, out_channels, identity_downsample = None, stride = 1):\n",
    "        super(resblock, self).__init__()\n",
    "        self.expansion = 4 # \"number of channels after a block is 4x what it was when it entered\"\n",
    "        self.conv1 = nn.Conv2d(in_channels, out_channels, kernel_size = 1, stride =1, padding = 0)\n",
    "        self.bn1 = nn.BatchNorm2d(out_channels)\n",
    "        self.conv2 = nn.Conv2d(in_channels, out_channels, kernel_size = 1, stride = stride, padding =1)\n",
    "        self.bn2 = nn.BatchNorm2d(out_channels)\n",
    "        self.conv3 = nn.Conv2d(out_channels, out_channels *self.expansion, kernel_size =1, stride=1, padding = 0)\n",
    "        self.bn3 = nn.BatchNorm2d(out_channels*self.expansion)\n",
    "        self.relu = nn.ReLU()\n",
    "        self.identity_downsample = identity_downsample\n",
    "        \n",
    "    def forward(self, x):\n",
    "        identity = x\n",
    "        \n",
    "        x = self.conv1(x)\n",
    "        x = self.bn1(x)\n",
    "        x = self.relu(x)\n",
    "        x = self.conv2(x)\n",
    "        x = self.bn2(x)\n",
    "        x = self.relu(x)\n",
    "        x = self.conv3(x)\n",
    "        x = self.bn3(x)\n",
    "        \n",
    "        if self.identity_downsample is not None:\n",
    "            identity = self.identity_downsample(identity)\n",
    "            \n",
    "            print('SHAPES:')\n",
    "            print(x.shape)\n",
    "            print(identity.shape)\n",
    "        \n",
    "        x += identity\n",
    "        x = self.relu(x)\n",
    "        return x\n",
    "    \n",
    "\n",
    "class ResNet(nn.Module): # note, the layers argument corresponds to the number of resnet blocks\n",
    "    def __init__(self, resblock, layers, image_channels, num_classes):\n",
    "        super(ResNet, self).__init__()\n",
    "        self.in_channels = 64\n",
    "        self.conv1 = nn.Conv2d(image_channels, 64, kernel_size=7, stride=2, padding=3)\n",
    "        self.bn1 = nn.BatchNorm2d(64)\n",
    "        self.relu = nn.ReLU()\n",
    "        self.maxpool = nn.MaxPool2d(kernel_size = 3, stride=2, padding=1)\n",
    "        \n",
    "        #ResNet layers\n",
    "        \n",
    "        self.layer1 = self._make_layer(resblock, layers[0], out_channels=64, stride=1)\n",
    "        self.layer2 = self._make_layer(resblock, layers[1], out_channels=128, stride=2)\n",
    "        self.layer3 = self._make_layer(resblock, layers[2], out_channels=256, stride=2)\n",
    "        self.layer4 = self._make_layer(resblock, layers[3], out_channels=512, stride=2)\n",
    "        \n",
    "        self.avgpool = nn.AdaptiveAvgPool2d((1,1))\n",
    "        self.fc = nn.Linear(512*4, num_classes)\n",
    "        \n",
    "    def forward(self, x):\n",
    "        x = self.conv1(x)\n",
    "        print(x.shape)\n",
    "        x = self.bn1(x)\n",
    "        print(x.shape)\n",
    "        x = self.relu(x)\n",
    "        print(x.shape)\n",
    "        x = self.maxpool(x)\n",
    "        print(x.shape)\n",
    "        \n",
    "        x = self.layer1(x)\n",
    "        x = self.layer2(x)\n",
    "        x = self.layer3(x)\n",
    "        x = self.layer4(x)\n",
    "        \n",
    "        x = self.avgpool(x)\n",
    "        x = x.reshape(x.shape[0], -1)\n",
    "        x = self.fc(x)\n",
    "        return x\n",
    "        \n",
    "        \n",
    "    def _make_layer(self, resblock, num_residual_blocks, out_channels, stride):\n",
    "        identity_downsample = None\n",
    "        layers = []\n",
    "        \n",
    "        if stride != 1 or self.in_channels != out_channels * 4:\n",
    "            identity_downsample = nn.Sequential(nn.Conv2d(self.in_channels, out_channels *4, kernel_size = 1,\n",
    "                                                         stride = stride),\n",
    "                                               nn.BatchNorm2d(out_channels*4))\n",
    "        \n",
    "        layers.append(resblock(self.in_channels, out_channels, identity_downsample, stride)) #changes the number of channels\n",
    "        self.in_channels = out_channels * 4\n",
    "        \n",
    "        for i in range(num_residual_blocks - 1):\n",
    "            layers.append(resblock(self.in_channels, out_channels))\n",
    "            \n",
    "        return nn.Sequential(*layers)\n",
    "        \n",
    "        "
   ]
  },
  {
   "cell_type": "code",
   "execution_count": null,
   "metadata": {},
   "outputs": [],
   "source": [
    "#initialize resnet 50 with our parameters: 1 channel for grayscale images, 14 classes.\n",
    "\n",
    "def ResNet50(img_channels=1, num_classes=14):\n",
    "    return ResNet(resblock, [3, 4, 6, 3], img_channels, num_classes)"
   ]
  },
  {
   "cell_type": "code",
   "execution_count": null,
   "metadata": {},
   "outputs": [],
   "source": []
  },
  {
   "cell_type": "code",
   "execution_count": null,
   "metadata": {},
   "outputs": [],
   "source": [
    "def test():\n",
    "    net = ResNet50()\n",
    "    x = torch.randn(2, 1, 224, 224)\n",
    "    y = net(x).to('cuda')\n",
    "    print(y.shape)\n",
    "    \n",
    "test()"
   ]
  },
  {
   "cell_type": "markdown",
   "metadata": {},
   "source": [
    "## MAYBE WE DON'T NEED TO DEVELOP OUR OWN MODELS RIGHT NOW. TRY LOADING DR. A's PreTrained Model"
   ]
  },
  {
   "cell_type": "markdown",
   "metadata": {},
   "source": [
    "## TO RUN THIS CODE MAKE SURE THE h5 MODEL IS IN THE SAME DIRECTORY AS THE NOTEBOOK, OR IF ON AWS, MAKE SURE THE h5 MODEL IS IN A BUCKET."
   ]
  },
  {
   "cell_type": "markdown",
   "metadata": {},
   "source": [
    "## TODO: THIS NEEDS TO BE TRANSLATED TO PYTORCH, "
   ]
  },
  {
   "cell_type": "code",
   "execution_count": null,
   "metadata": {},
   "outputs": [],
   "source": [
    "loaded_model = load_model(os.path.join('.', 'CheXpert_ResNet20v1_224_multiclass_model_epochs5.h5'))"
   ]
  },
  {
   "cell_type": "code",
   "execution_count": null,
   "metadata": {},
   "outputs": [],
   "source": [
    "#masked_test_gen.reset()\n",
    "pred=model.predict_generator(masked_test_gen, steps=len(test_temp_df), verbose=1)"
   ]
  },
  {
   "cell_type": "code",
   "execution_count": null,
   "metadata": {},
   "outputs": [],
   "source": [
    "pred_bool = []\n",
    "pred_bool = [(pred[i] > 0.5) for i in range(len(pred))]"
   ]
  },
  {
   "cell_type": "code",
   "execution_count": null,
   "metadata": {},
   "outputs": [],
   "source": [
    "predictions = [item.astype(int) for item in pred_bool]\n",
    "predictions[10]"
   ]
  },
  {
   "cell_type": "code",
   "execution_count": null,
   "metadata": {},
   "outputs": [],
   "source": [
    "columns = diag_cols\n",
    "#columns should be the same order of y_col\n",
    "results=pd.DataFrame(index = test_temp_df.index)\n",
    "for i in range(len(columns)):\n",
    "    results[columns[i]] = predictions[i]\n",
    "#ordered_cols = [\"Filenames\"] + columns\n",
    "#results=results[ordered_cols] #To get the same column order\n",
    "#results.to_csv(\"results.csv\",index=False)\n",
    "results.tail()"
   ]
  },
  {
   "cell_type": "code",
   "execution_count": null,
   "metadata": {},
   "outputs": [],
   "source": [
    "results.describe()"
   ]
  },
  {
   "cell_type": "markdown",
   "metadata": {},
   "source": [
    "## TRANSFER LEARNING WORK (THIS MUST BE TRANSLATED TO PYTORCH)"
   ]
  },
  {
   "cell_type": "code",
   "execution_count": 33,
   "metadata": {},
   "outputs": [],
   "source": [
    "from tensorflow.keras.applications.inception_v3 import preprocess_input"
   ]
  },
  {
   "cell_type": "code",
   "execution_count": 34,
   "metadata": {},
   "outputs": [],
   "source": [
    "# initialize the input image shape (224x224 pixels) along with\n",
    "# the pre-processing function (this might need to be changed\n",
    "# based on which model we use to classify our image)\n",
    "inputShape = (224, 224)\n",
    "preprocess = preprocess_input\n",
    "# if we are using the InceptionV3 or Xception networks, then we\n",
    "# need to set the input shape to (299x299) [rather than (224x224)]\n",
    "# and use a different image processing function\n",
    "#if args[\"model\"] in (\"inception\", \"xception\"):\n",
    "#\tinputShape = (299, 299)\n",
    "#\tpreprocess = preprocess_input"
   ]
  },
  {
   "cell_type": "code",
   "execution_count": 48,
   "metadata": {},
   "outputs": [
    {
     "name": "stdout",
     "output_type": "stream",
     "text": [
      "[INFO] loading and pre-processing image...\n"
     ]
    }
   ],
   "source": [
    "# load the input image using the Keras helper utility while ensuring\n",
    "# the image is resized to `inputShape`, the required input dimensions\n",
    "# for the ImageNet pre-trained network\n",
    "print(\"[INFO] loading and pre-processing image...\")\n",
    "\n",
    "# (Nick: trying to understand what this code is doing.)\n",
    "# Keras has a load_image function that loads the image and reduces its size to 224 x 224\n",
    "# Torchvision will do this with a resize transformation\n",
    "\n",
    "import torchvision.transforms as transforms\n",
    "\n",
    "#from earlier image loading code above:\n",
    "rnd_xray = data_df['xrays'][354]\n",
    "from PIL import Image\n",
    "img_norm = Image.open(rnd_xray) #Note, these .jpg files are PIL objects...\n",
    "\n",
    "img_resized = transforms.Resize(size = (224, 224))(img_norm)\n",
    "\n",
    "\n",
    "img_norm.show()\n",
    "img_resized.show()"
   ]
  },
  {
   "cell_type": "code",
   "execution_count": null,
   "metadata": {},
   "outputs": [],
   "source": [
    "image = load_img(data_df['xrays'].values[1], target_size = (224, 224))\n",
    "\n",
    "image = img_to_array(image)\n",
    "# our input image is now represented as a NumPy array of shape\n",
    "# (inputShape[0], inputShape[1], 3) however we need to expand the\n",
    "# dimension by making the shape (1, inputShape[0], inputShape[1], 3)\n",
    "# so we can pass it through the network\n",
    "image = np.expand_dims(image, axis=0)\n",
    "# pre-process the image using the appropriate function based on the\n",
    "# model that has been loaded (i.e., mean subtraction, scaling, etc.)\n",
    "image = preprocess(image)"
   ]
  },
  {
   "cell_type": "code",
   "execution_count": null,
   "metadata": {},
   "outputs": [],
   "source": [
    "# load model without classifier layers\n",
    "#model = ResNet50(include_top=False, input_shape=(input_dim,input_dim,3))\n",
    "#If we don't want to train the weights:\n",
    "#mark loaded layers as not trainable\n",
    "for layer in model.layers:\n",
    "    layer.trainable = False\n",
    "    \n",
    "#Also if don't want to train particular layers:\n",
    "#mark some layers as not trainable\n",
    "#model.get_layer('block1_conv1').trainable = False\n",
    "#model.get_layer('block1_conv2').trainable = False\n",
    "#model.get_layer('block2_conv1').trainable = False\n",
    "#model.get_layer('block2_conv2').trainable = False"
   ]
  },
  {
   "cell_type": "code",
   "execution_count": null,
   "metadata": {},
   "outputs": [],
   "source": [
    "baseModel = InceptionV3(weights=\"imagenet\", include_top=False, input_tensor=Input(shape=(299, 299, 3)))\n",
    "# construct the head of the model that will be placed on top of the\n",
    "# the base model\n",
    "\n",
    "#mark loaded layers as not trainable\n",
    "#for layer in baseModel.layers:\n",
    "#    layer.trainable = False\n",
    "\n",
    "\n",
    "headModel = baseModel.output\n",
    "headModel = AveragePooling2D(pool_size=(4, 4))(headModel)\n",
    "headModel = Flatten(name=\"flatten\")(headModel)\n",
    "y = Dense(1024, activation=\"relu\")(headModel)\n",
    "#headModel = Dropout(0.5)(headModel)\n",
    "output1 = Dense(1, activation = 'sigmoid',kernel_initializer='he_normal')(y)\n",
    "output2 = Dense(1, activation = 'sigmoid',kernel_initializer='he_normal')(y)\n",
    "output3 = Dense(1, activation = 'sigmoid',kernel_initializer='he_normal')(y)\n",
    "output4 = Dense(1, activation = 'sigmoid',kernel_initializer='he_normal')(y)\n",
    "output5 = Dense(1, activation = 'sigmoid',kernel_initializer='he_normal')(y)\n",
    "output6 = Dense(1, activation = 'sigmoid',kernel_initializer='he_normal')(y)\n",
    "output7 = Dense(1, activation = 'sigmoid',kernel_initializer='he_normal')(y)\n",
    "output8 = Dense(1, activation = 'sigmoid',kernel_initializer='he_normal')(y)\n",
    "output9 = Dense(1, activation = 'sigmoid',kernel_initializer='he_normal')(y)\n",
    "output10 = Dense(1, activation = 'sigmoid',kernel_initializer='he_normal')(y)\n",
    "output11 = Dense(1, activation = 'sigmoid',kernel_initializer='he_normal')(y)\n",
    "output12 = Dense(1, activation = 'sigmoid',kernel_initializer='he_normal')(y)\n",
    "output13 = Dense(1, activation = 'sigmoid',kernel_initializer='he_normal')(y)\n",
    "output14 = Dense(1, activation = 'sigmoid',kernel_initializer='he_normal')(y)\n",
    "# place the head FC model on top of the base model (this will become\n",
    "# the actual model we will train)\n",
    "IV3model = Model(inputs=baseModel.input, outputs=[output1,output2,output3,output4,output5,output6, \n",
    "                                               output7,output8,output9,output10, output11,output12,output13,output14])\n",
    "#model = resnet_v2(input_shape=input_shape, depth=depth)\n",
    "IV3model.compile(loss = [\"binary_crossentropy\",\"binary_crossentropy\", \"binary_crossentropy\",\"binary_crossentropy\", \n",
    "                      \"binary_crossentropy\",\"binary_crossentropy\",\"binary_crossentropy\", \"binary_crossentropy\",\n",
    "                      \"binary_crossentropy\",      \"binary_crossentropy\", \"binary_crossentropy\",\"binary_crossentropy\", \n",
    "                      \"binary_crossentropy\",\"binary_crossentropy\"],\n",
    "              optimizer='adam', metrics=['accuracy'])\n",
    "\n"
   ]
  },
  {
   "cell_type": "code",
   "execution_count": null,
   "metadata": {},
   "outputs": [],
   "source": [
    "IV3results = IV3model.fit_generator(masked_train_gen, steps_per_epoch= 10000, epochs=10,\n",
    "                              validation_data=masked_val_gen, validation_steps=100,\n",
    "                              callbacks=callbacks, verbose=2)"
   ]
  }
 ],
 "metadata": {
  "kernelspec": {
   "display_name": "Python 3",
   "language": "python",
   "name": "python3"
  },
  "language_info": {
   "codemirror_mode": {
    "name": "ipython",
    "version": 3
   },
   "file_extension": ".py",
   "mimetype": "text/x-python",
   "name": "python",
   "nbconvert_exporter": "python",
   "pygments_lexer": "ipython3",
   "version": "3.8.5"
  },
  "varInspector": {
   "cols": {
    "lenName": 16,
    "lenType": 16,
    "lenVar": 40
   },
   "kernels_config": {
    "python": {
     "delete_cmd_postfix": "",
     "delete_cmd_prefix": "del ",
     "library": "var_list.py",
     "varRefreshCmd": "print(var_dic_list())"
    },
    "r": {
     "delete_cmd_postfix": ") ",
     "delete_cmd_prefix": "rm(",
     "library": "var_list.r",
     "varRefreshCmd": "cat(var_dic_list()) "
    }
   },
   "types_to_exclude": [
    "module",
    "function",
    "builtin_function_or_method",
    "instance",
    "_Feature"
   ],
   "window_display": false
  }
 },
 "nbformat": 4,
 "nbformat_minor": 4
}
